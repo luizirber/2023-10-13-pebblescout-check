{
 "cells": [
  {
   "cell_type": "markdown",
   "id": "1286cf02-d265-4c2c-81aa-99f5fb21d99d",
   "metadata": {},
   "source": [
    "Command ran on 2023-08-17 to generate runinfo:\n",
    "\n",
    "```\n",
    "esearch -db sra \\\n",
    "        -query '(\"1950/01/01\"[PDAT] : \"3000\"[PDAT]) NOT amplicon[All Fields] AND \"METAGENOMIC\"[Source]' | \\\n",
    "  efetch -format runinfo -mode text > runinfo-20230817.csv\n",
    "```"
   ]
  },
  {
   "cell_type": "code",
   "execution_count": 1,
   "id": "2fdc7bc1-0ea2-464f-858a-4559b7f2e583",
   "metadata": {
    "tags": []
   },
   "outputs": [],
   "source": [
    "with open(\"missing.bw.txt\", 'r') as f:\n",
    "    missing = {l.strip().split()[0] for l in f}\n",
    "\n",
    "with open('sra_accessions', 'r') as f:\n",
    "    current_accs = {l.strip() for l in f}\n",
    "\n",
    "with open('metagenomes-k21-s1000.manifest', 'r') as f:\n",
    "    next(f)\n",
    "    next_accs = {l.strip().split(',')[-2] for l in f if l}\n",
    "\n",
    "with open('runinfo-20230817.csv', 'r') as f:\n",
    "    next(f)\n",
    "    next_full = {l.strip().split(',')[0] for l in f}"
   ]
  },
  {
   "cell_type": "code",
   "execution_count": 2,
   "id": "d39962d0-97d9-42a5-a7ab-524b203e397d",
   "metadata": {
    "tags": []
   },
   "outputs": [
    {
     "data": {
      "text/plain": [
       "24831"
      ]
     },
     "execution_count": 2,
     "metadata": {},
     "output_type": "execute_result"
    }
   ],
   "source": [
    "len(missing)"
   ]
  },
  {
   "cell_type": "code",
   "execution_count": 3,
   "id": "e19559de-8f25-4bcb-8eea-ef1f29d471c8",
   "metadata": {
    "tags": []
   },
   "outputs": [
    {
     "data": {
      "text/plain": [
       "787294"
      ]
     },
     "execution_count": 3,
     "metadata": {},
     "output_type": "execute_result"
    }
   ],
   "source": [
    "len(current_accs)"
   ]
  },
  {
   "cell_type": "code",
   "execution_count": 4,
   "id": "2c12a482-cd11-4e8f-b0ab-2675b37bb75b",
   "metadata": {
    "tags": []
   },
   "outputs": [
    {
     "data": {
      "text/plain": [
       "927553"
      ]
     },
     "execution_count": 4,
     "metadata": {},
     "output_type": "execute_result"
    }
   ],
   "source": [
    "len(next_accs)"
   ]
  },
  {
   "cell_type": "code",
   "execution_count": 5,
   "id": "b989a6e3-3df8-4e1b-8e4a-37a173dfed76",
   "metadata": {
    "tags": []
   },
   "outputs": [
    {
     "data": {
      "text/plain": [
       "179944"
      ]
     },
     "execution_count": 5,
     "metadata": {},
     "output_type": "execute_result"
    }
   ],
   "source": [
    "len(next_accs - current_accs)"
   ]
  },
  {
   "cell_type": "code",
   "execution_count": 6,
   "id": "a6e96cc2-6aac-4dfa-8f2d-1f2fad05b725",
   "metadata": {
    "tags": []
   },
   "outputs": [
    {
     "data": {
      "text/plain": [
       "24831"
      ]
     },
     "execution_count": 6,
     "metadata": {},
     "output_type": "execute_result"
    }
   ],
   "source": [
    "len(missing - current_accs)"
   ]
  },
  {
   "cell_type": "code",
   "execution_count": 7,
   "id": "29115717-fabe-4b36-a4dd-168c44a821dd",
   "metadata": {
    "tags": []
   },
   "outputs": [
    {
     "data": {
      "text/plain": [
       "14392"
      ]
     },
     "execution_count": 7,
     "metadata": {},
     "output_type": "execute_result"
    }
   ],
   "source": [
    "len(missing - next_accs)"
   ]
  },
  {
   "cell_type": "code",
   "execution_count": 8,
   "id": "dac58e24-1c39-4d8b-9915-3b4b79898c18",
   "metadata": {
    "tags": []
   },
   "outputs": [
    {
     "data": {
      "text/plain": [
       "1007302"
      ]
     },
     "execution_count": 8,
     "metadata": {},
     "output_type": "execute_result"
    }
   ],
   "source": [
    "len(next_full)"
   ]
  },
  {
   "cell_type": "code",
   "execution_count": 9,
   "id": "479c968a-9221-426d-b35a-a65fc760ebe6",
   "metadata": {
    "tags": []
   },
   "outputs": [
    {
     "data": {
      "text/plain": [
       "79750"
      ]
     },
     "execution_count": 9,
     "metadata": {},
     "output_type": "execute_result"
    }
   ],
   "source": [
    "len(next_full - next_accs)"
   ]
  },
  {
   "cell_type": "code",
   "execution_count": 10,
   "id": "22e0d437-c7e6-46d0-b174-f461482e91bb",
   "metadata": {
    "tags": []
   },
   "outputs": [
    {
     "data": {
      "text/plain": [
       "13207"
      ]
     },
     "execution_count": 10,
     "metadata": {},
     "output_type": "execute_result"
    }
   ],
   "source": [
    "len(missing - next_full)"
   ]
  },
  {
   "cell_type": "code",
   "execution_count": 11,
   "id": "72ca14ff-9fe5-42fc-9446-edf724970194",
   "metadata": {
    "tags": []
   },
   "outputs": [
    {
     "data": {
      "text/plain": [
       "'SRR8391284'"
      ]
     },
     "execution_count": 11,
     "metadata": {},
     "output_type": "execute_result"
    }
   ],
   "source": [
    "(missing - next_full).pop()"
   ]
  },
  {
   "cell_type": "markdown",
   "id": "7c509827-fcf2-4460-9126-c70623144948",
   "metadata": {},
   "source": [
    "https://trace.ncbi.nlm.nih.gov/Traces/index.html?view=run_browser&acc=SRR13664758&display=metadata\n",
    "\n",
    "> 16S rRNA sequencing of human feces\n",
    ">\n",
    "> The V3-V4 variable regions of the 16S rRNA gene were amplified using bacterium-specific primers. Amplicon was amplified for another round of PCR. After purified with the AMPure XP beads again, the final amplicon was quantified using Qubit dsDNA assay kit. Equal amounts of purified amplicon were pooled and sequenced on an Illumina MiSeq PE300 with two paired-end read cycles of 318 bases each."
   ]
  }
 ],
 "metadata": {
  "kernelspec": {
   "display_name": "Python 3 (ipykernel)",
   "language": "python",
   "name": "python3"
  },
  "language_info": {
   "codemirror_mode": {
    "name": "ipython",
    "version": 3
   },
   "file_extension": ".py",
   "mimetype": "text/x-python",
   "name": "python",
   "nbconvert_exporter": "python",
   "pygments_lexer": "ipython3",
   "version": "3.10.9"
  }
 },
 "nbformat": 4,
 "nbformat_minor": 5
}
